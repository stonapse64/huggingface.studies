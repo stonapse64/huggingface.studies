{
 "cells": [
  {
   "cell_type": "markdown",
   "id": "99cd65cd-f632-4325-82f2-4d11210b0173",
   "metadata": {},
   "source": [
    "# Hugging Face NLP Course\n",
    "https://huggingface.co/learn/nlp-course/en/chapter0/1"
   ]
  },
  {
   "cell_type": "markdown",
   "id": "6122b56d-2543-4c88-8a29-672636d8b2a6",
   "metadata": {},
   "source": [
    "All installs are bundled that I will / did do for the course are bundled in this file"
   ]
  },
  {
   "cell_type": "code",
   "execution_count": 1,
   "id": "e1bde8c5-7fc6-409b-83b6-1b7099ea2c1c",
   "metadata": {
    "ExecuteTime": {
     "end_time": "2024-04-27T17:29:45.855886Z",
     "start_time": "2024-04-27T17:29:44.378786Z"
    }
   },
   "outputs": [],
   "source": [
    "# Update pip\n",
    "! python.exe -m pip install -Uqq pip"
   ]
  },
  {
   "cell_type": "code",
   "execution_count": 1,
   "id": "fc859659-9216-46f5-b768-fd509cc2b0f6",
   "metadata": {
    "ExecuteTime": {
     "end_time": "2024-04-27T17:29:45.855886Z",
     "start_time": "2024-04-27T17:29:44.378786Z"
    }
   },
   "outputs": [],
   "source": [
    "# Jupyter, install(ed) with PyCharm / Visual Studio Code (VSC)\n",
    "! pip install -Uqq jupyter"
   ]
  },
  {
   "cell_type": "code",
   "execution_count": 2,
   "id": "0ce10694-2c3b-422e-bc18-b31635dc5f35",
   "metadata": {
    "ExecuteTime": {
     "end_time": "2024-04-27T17:29:45.855886Z",
     "start_time": "2024-04-27T17:29:44.378786Z"
    }
   },
   "outputs": [],
   "source": [
    "# Jupyter Lab, install(ed) with PyCharm / Visual Studio Code (VSC)\n",
    "! pip install -Uqq jupyterlab"
   ]
  },
  {
   "cell_type": "code",
   "execution_count": null,
   "id": "9ecccb44-4895-4349-a7f2-80bc23fcaaea",
   "metadata": {
    "ExecuteTime": {
     "end_time": "2024-04-27T17:29:45.855886Z",
     "start_time": "2024-04-27T17:29:44.378786Z"
    }
   },
   "outputs": [],
   "source": [
    "# PyTorch, go to https://pytorch.org/ to get the correct --index-url for your system\n",
    "! pip install torch torchvision torchaudio --index-url https://download.pytorch.org/whl/cu121"
   ]
  },
  {
   "cell_type": "code",
   "execution_count": 2,
   "id": "2efae5d5c65e8eb",
   "metadata": {},
   "outputs": [
    {
     "data": {
      "text/plain": [
       "('cuda', 'NVIDIA GeForce RTX 3090')"
      ]
     },
     "execution_count": 2,
     "metadata": {},
     "output_type": "execute_result"
    }
   ],
   "source": [
    "# check if gpu is available\n",
    "# use these lines in any notebook to set the device to cuda or cpu depending on your system\n",
    "import torch\n",
    "\n",
    "# Set device type\n",
    "device = \"cuda\" if torch.cuda.is_available() else \"cpu\"\n",
    "device, torch.cuda.get_device_name()"
   ]
  },
  {
   "cell_type": "code",
   "execution_count": null,
   "id": "5773dbeb-98f8-4eaf-bc65-318ef5b09052",
   "metadata": {},
   "outputs": [],
   "source": [
    "# Hugging face\n",
    "! pip install -Uqq transformers"
   ]
  },
  {
   "cell_type": "code",
   "execution_count": 8,
   "id": "bda2cf4f-9da2-4366-8b39-6a37bea83715",
   "metadata": {},
   "outputs": [
    {
     "name": "stdout",
     "output_type": "stream",
     "text": [
      "Collecting pandas\n",
      "  Downloading pandas-2.2.2-cp312-cp312-win_amd64.whl.metadata (19 kB)\n",
      "Requirement already satisfied: numpy>=1.26.0 in p:\\aida\\huggingface.studies\\.venv\\lib\\site-packages (from pandas) (1.26.3)\n",
      "Requirement already satisfied: python-dateutil>=2.8.2 in p:\\aida\\huggingface.studies\\.venv\\lib\\site-packages (from pandas) (2.9.0.post0)\n",
      "Collecting pytz>=2020.1 (from pandas)\n",
      "  Using cached pytz-2024.1-py2.py3-none-any.whl.metadata (22 kB)\n",
      "Collecting tzdata>=2022.7 (from pandas)\n",
      "  Using cached tzdata-2024.1-py2.py3-none-any.whl.metadata (1.4 kB)\n",
      "Requirement already satisfied: six>=1.5 in p:\\aida\\huggingface.studies\\.venv\\lib\\site-packages (from python-dateutil>=2.8.2->pandas) (1.16.0)\n",
      "Downloading pandas-2.2.2-cp312-cp312-win_amd64.whl (11.5 MB)\n",
      "   ---------------------------------------- 0.0/11.5 MB ? eta -:--:--\n",
      "   ---------------------------------------- 0.1/11.5 MB 2.6 MB/s eta 0:00:05\n",
      "   - -------------------------------------- 0.5/11.5 MB 6.2 MB/s eta 0:00:02\n",
      "   --- ------------------------------------ 1.0/11.5 MB 7.5 MB/s eta 0:00:02\n",
      "   ---- ----------------------------------- 1.4/11.5 MB 8.0 MB/s eta 0:00:02\n",
      "   ------ --------------------------------- 1.9/11.5 MB 8.5 MB/s eta 0:00:02\n",
      "   -------- ------------------------------- 2.4/11.5 MB 9.0 MB/s eta 0:00:02\n",
      "   ---------- ----------------------------- 2.9/11.5 MB 9.3 MB/s eta 0:00:01\n",
      "   ------------ --------------------------- 3.5/11.5 MB 9.6 MB/s eta 0:00:01\n",
      "   -------------- ------------------------- 4.1/11.5 MB 10.0 MB/s eta 0:00:01\n",
      "   ---------------- ----------------------- 4.7/11.5 MB 10.3 MB/s eta 0:00:01\n",
      "   ------------------ --------------------- 5.3/11.5 MB 10.5 MB/s eta 0:00:01\n",
      "   -------------------- ------------------- 5.9/11.5 MB 11.0 MB/s eta 0:00:01\n",
      "   ---------------------- ----------------- 6.5/11.5 MB 11.2 MB/s eta 0:00:01\n",
      "   ------------------------ --------------- 7.1/11.5 MB 11.4 MB/s eta 0:00:01\n",
      "   -------------------------- ------------- 7.7/11.5 MB 11.4 MB/s eta 0:00:01\n",
      "   ---------------------------- ----------- 8.3/11.5 MB 11.6 MB/s eta 0:00:01\n",
      "   ------------------------------- -------- 8.9/11.5 MB 11.7 MB/s eta 0:00:01\n",
      "   --------------------------------- ------ 9.6/11.5 MB 11.8 MB/s eta 0:00:01\n",
      "   ----------------------------------- ---- 10.2/11.5 MB 11.8 MB/s eta 0:00:01\n",
      "   ------------------------------------ --- 10.5/11.5 MB 12.4 MB/s eta 0:00:01\n",
      "   -------------------------------------- - 11.1/11.5 MB 12.1 MB/s eta 0:00:01\n",
      "   ---------------------------------------  11.5/11.5 MB 12.6 MB/s eta 0:00:01\n",
      "   ---------------------------------------- 11.5/11.5 MB 12.1 MB/s eta 0:00:00\n",
      "Using cached pytz-2024.1-py2.py3-none-any.whl (505 kB)\n",
      "Using cached tzdata-2024.1-py2.py3-none-any.whl (345 kB)\n",
      "Installing collected packages: pytz, tzdata, pandas\n",
      "Successfully installed pandas-2.2.2 pytz-2024.1 tzdata-2024.1\n"
     ]
    }
   ],
   "source": [
    "! pip install -Uqq pandas"
   ]
  },
  {
   "cell_type": "code",
   "execution_count": null,
   "id": "240550bf-d7f7-491c-8bef-0ee706153dc2",
   "metadata": {},
   "outputs": [],
   "source": "! pip install gradio"
  }
 ],
 "metadata": {
  "kernelspec": {
   "display_name": "Python 3 (ipykernel)",
   "language": "python",
   "name": "python3"
  },
  "language_info": {
   "codemirror_mode": {
    "name": "ipython",
    "version": 3
   },
   "file_extension": ".py",
   "mimetype": "text/x-python",
   "name": "python",
   "nbconvert_exporter": "python",
   "pygments_lexer": "ipython3",
   "version": "3.12.2"
  }
 },
 "nbformat": 4,
 "nbformat_minor": 5
}
