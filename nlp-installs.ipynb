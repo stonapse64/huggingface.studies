{
 "cells": [
  {
   "cell_type": "markdown",
   "id": "99cd65cd-f632-4325-82f2-4d11210b0173",
   "metadata": {},
   "source": [
    "# Hugging Face NLP Course\n",
    "https://huggingface.co/learn/nlp-course/en/chapter0/1"
   ]
  },
  {
   "cell_type": "markdown",
   "id": "6122b56d-2543-4c88-8a29-672636d8b2a6",
   "metadata": {},
   "source": [
    "All installs are bundled that I will / did do for the course are bundled in this file"
   ]
  },
  {
   "cell_type": "code",
   "execution_count": null,
   "id": "fc859659-9216-46f5-b768-fd509cc2b0f6",
   "metadata": {
    "ExecuteTime": {
     "end_time": "2024-04-27T17:29:45.855886Z",
     "start_time": "2024-04-27T17:29:44.378786Z"
    }
   },
   "outputs": [],
   "source": [
    "# Jupyter, installed with PyCharm\n",
    "! pip install -Uqq jupyter"
   ]
  },
  {
   "cell_type": "code",
   "execution_count": null,
   "id": "0ce10694-2c3b-422e-bc18-b31635dc5f35",
   "metadata": {
    "ExecuteTime": {
     "end_time": "2024-04-27T17:29:45.855886Z",
     "start_time": "2024-04-27T17:29:44.378786Z"
    }
   },
   "outputs": [],
   "source": [
    "# Jupyter Lab, installed here\n",
    "! pip install -Uqq jupyterlab"
   ]
  },
  {
   "cell_type": "code",
   "execution_count": 2,
   "id": "e1bde8c5-7fc6-409b-83b6-1b7099ea2c1c",
   "metadata": {
    "ExecuteTime": {
     "end_time": "2024-04-27T17:29:45.855886Z",
     "start_time": "2024-04-27T17:29:44.378786Z"
    }
   },
   "outputs": [],
   "source": [
    "# \n",
    "! python.exe -m pip install -Uqq pip"
   ]
  },
  {
   "cell_type": "code",
   "execution_count": null,
   "id": "9ecccb44-4895-4349-a7f2-80bc23fcaaea",
   "metadata": {
    "ExecuteTime": {
     "end_time": "2024-04-27T17:29:45.855886Z",
     "start_time": "2024-04-27T17:29:44.378786Z"
    }
   },
   "outputs": [],
   "source": [
    "! pip install torch torchvision torchaudio --index-url https://download.pytorch.org/whl/cu121"
   ]
  },
  {
   "cell_type": "code",
   "execution_count": 5,
   "id": "2efae5d5c65e8eb",
   "metadata": {},
   "outputs": [
    {
     "data": {
      "text/plain": [
       "('cuda', 'NVIDIA RTX 2000 Ada Generation Laptop GPU')"
      ]
     },
     "execution_count": 5,
     "metadata": {},
     "output_type": "execute_result"
    }
   ],
   "source": [
    "import torch\n",
    "\n",
    "# Set device type\n",
    "device = \"cuda\" if torch.cuda.is_available() else \"cpu\"\n",
    "device, torch.cuda.get_device_name()"
   ]
  },
  {
   "cell_type": "code",
   "execution_count": null,
   "id": "5773dbeb-98f8-4eaf-bc65-318ef5b09052",
   "metadata": {},
   "outputs": [],
   "source": []
  }
 ],
 "metadata": {
  "kernelspec": {
   "display_name": "Python 3 (ipykernel)",
   "language": "python",
   "name": "python3"
  },
  "language_info": {
   "codemirror_mode": {
    "name": "ipython",
    "version": 3
   },
   "file_extension": ".py",
   "mimetype": "text/x-python",
   "name": "python",
   "nbconvert_exporter": "python",
   "pygments_lexer": "ipython3",
   "version": "3.12.2"
  }
 },
 "nbformat": 4,
 "nbformat_minor": 5
}
