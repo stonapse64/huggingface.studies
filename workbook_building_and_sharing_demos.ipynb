{
 "cells": [
  {
   "cell_type": "markdown",
   "id": "ebbda2f9b7db5dbd",
   "metadata": {},
   "source": [
    " # Workbook NLP Course Hugging Face  \n",
    "Chapter 9: Building and Sharing Demos\n",
    "<br><br>\n",
    "\n",
    "| Resources         |                                                    |\n",
    "|:------------------|:---------------------------------------------------|\n",
    "| Course            | https://huggingface.co/learn/nlp-course/chapter9/1 |  \n",
    "| Gradio            | https://www.gradio.app/docs                        |\n",
    "| Gradio components | https://www.gradio.app/docs/gradio/components      |  "
   ]
  },
  {
   "cell_type": "markdown",
   "id": "5edf0da97df73b0e",
   "metadata": {},
   "source": [
    "## Building your first demo"
   ]
  },
  {
   "cell_type": "code",
   "id": "54b2827d252dafb",
   "metadata": {},
   "source": [
    "import gradio\n",
    "\n",
    "def greet(name):\n",
    "    return f\"Hello, {name}!\"\n",
    "\n",
    "demo = gradio.Interface(fn=greet, inputs=\"text\", outputs=\"text\")\n",
    "\n",
    "demo.launch()"
   ],
   "outputs": [],
   "execution_count": null
  },
  {
   "cell_type": "markdown",
   "id": "e10b17ae7a316b35",
   "metadata": {},
   "source": [
    "## Customize Gradio components  \n",
    "To customize gradio interface components we have to instantiate the underlying class. "
   ]
  },
  {
   "cell_type": "code",
   "id": "88efd0e15a9b0ad5",
   "metadata": {},
   "source": [
    "import gradio\n",
    "\n",
    "def greet(name):\n",
    "    return f\"Hello, {name}!\"\n",
    "\n",
    "# We instantiate the Textbox class\n",
    "input_textbox = gradio.Textbox(label=\"Type your name here:\", placeholder=\"John Doe\", lines=2)\n",
    "output_textbox = gradio.Textbox(label=\"Greeting\", lines=2)\n",
    "\n",
    "gradio.Interface(fn=greet, inputs=input_textbox, outputs=output_textbox).launch()"
   ],
   "outputs": [],
   "execution_count": null
  },
  {
   "cell_type": "markdown",
   "id": "bf0ec72d-725c-45a6-a7cc-25360e44bc4b",
   "metadata": {},
   "source": [
    "## Integrate model predictions"
   ]
  },
  {
   "cell_type": "code",
   "id": "3d0c6e8e-0bc9-4f8c-98ea-04bafed28fc1",
   "metadata": {
    "ExecuteTime": {
     "end_time": "2024-05-03T10:38:03.666050Z",
     "start_time": "2024-05-03T10:37:54.284155Z"
    }
   },
   "source": [
    "from transformers import pipeline\n",
    "import gradio\n",
    "\n",
    "model = pipeline(\"text-generation\", model=\"openai-community/gpt2\")\n",
    "\n",
    "def predict(prompt):\n",
    "    completion = model(prompt)[0][\"generated_text\"]\n",
    "    return completion\n",
    "\n",
    "input_textbox = gradio.Textbox(label=\"Type your prompt here:\", lines=5)\n",
    "output_textbox = gradio.Textbox(label=\"Generated text\", lines=5)\n",
    "\n",
    "gradio.Interface(fn=predict, inputs=input_textbox, outputs=output_textbox).launch()"
   ],
   "outputs": [
    {
     "name": "stdout",
     "output_type": "stream",
     "text": [
      "Running on local URL:  http://127.0.0.1:7881\n",
      "\n",
      "To create a public link, set `share=True` in `launch()`.\n"
     ]
    },
    {
     "data": {
      "text/plain": [
       "<IPython.core.display.HTML object>"
      ],
      "text/html": [
       "<div><iframe src=\"http://127.0.0.1:7881/\" width=\"100%\" height=\"500\" allow=\"autoplay; camera; microphone; clipboard-read; clipboard-write;\" frameborder=\"0\" allowfullscreen></iframe></div>"
      ]
     },
     "metadata": {},
     "output_type": "display_data"
    },
    {
     "data": {
      "text/plain": []
     },
     "execution_count": 1,
     "metadata": {},
     "output_type": "execute_result"
    }
   ],
   "execution_count": 1
  },
  {
   "metadata": {},
   "cell_type": "markdown",
   "source": [
    "## A simple example with audio  \n",
    "Gradio comes with many components. See the [docs](https://www.gradio.app/docs/gradio/components)."
   ],
   "id": "9ea821997522dd2c"
  },
  {
   "metadata": {
    "ExecuteTime": {
     "end_time": "2024-05-01T15:24:15.386890Z",
     "start_time": "2024-05-01T15:24:14.875709Z"
    }
   },
   "cell_type": "code",
   "source": [
    "import numpy as np\n",
    "import gradio\n",
    "\n",
    "def reverse_audio(audio):\n",
    "    sr, data = audio\n",
    "    reversed_audio = (sr, np.flipud(data))\n",
    "    return reversed_audio\n",
    "\n",
    "mic = gradio.Audio(sources=[\"microphone\"], type=\"numpy\", label=\"Speak here...\")\n",
    "gradio.Interface(reverse_audio, mic, \"audio\").launch()"
   ],
   "id": "342bf85c87c449c3",
   "outputs": [
    {
     "name": "stdout",
     "output_type": "stream",
     "text": [
      "Running on local URL:  http://127.0.0.1:7872\n",
      "\n",
      "To create a public link, set `share=True` in `launch()`.\n"
     ]
    },
    {
     "data": {
      "text/plain": [
       "<IPython.core.display.HTML object>"
      ],
      "text/html": [
       "<div><iframe src=\"http://127.0.0.1:7872/\" width=\"100%\" height=\"500\" allow=\"autoplay; camera; microphone; clipboard-read; clipboard-write;\" frameborder=\"0\" allowfullscreen></iframe></div>"
      ]
     },
     "metadata": {},
     "output_type": "display_data"
    },
    {
     "data": {
      "text/plain": []
     },
     "execution_count": 14,
     "metadata": {},
     "output_type": "execute_result"
    }
   ],
   "execution_count": 14
  },
  {
   "metadata": {},
   "cell_type": "code",
   "outputs": [],
   "execution_count": null,
   "source": "",
   "id": "b07d33f4cd130da2"
  }
 ],
 "metadata": {
  "kernelspec": {
   "display_name": "Python 3 (ipykernel)",
   "language": "python",
   "name": "python3"
  },
  "language_info": {
   "codemirror_mode": {
    "name": "ipython",
    "version": 3
   },
   "file_extension": ".py",
   "mimetype": "text/x-python",
   "name": "python",
   "nbconvert_exporter": "python",
   "pygments_lexer": "ipython3",
   "version": "3.12.2"
  }
 },
 "nbformat": 4,
 "nbformat_minor": 5
}
