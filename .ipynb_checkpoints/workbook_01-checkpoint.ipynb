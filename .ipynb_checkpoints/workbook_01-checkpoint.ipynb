{
 "cells": [
  {
   "cell_type": "markdown",
   "id": "418a4eb7-a192-4eae-9b4c-c276ac1ed4e5",
   "metadata": {},
   "source": [
    "# Transformers, what can they do?\n",
    "\n",
    "https://huggingface.co/learn/nlp-course/chapter1/3?fw=pt#transformers-what-can-they-do"
   ]
  },
  {
   "cell_type": "markdown",
   "id": "159a69d2-767d-42b4-baef-e0829c9048c7",
   "metadata": {},
   "source": [
    "The most basic object in the Hugging Face Transformers library is the pipeline() function. It connects a model with its necessary preprocessing and postprocessing steps, allowing us to directly input any text and get an intelligible answer:\n",
    "\n",
    "Some of the currently available pipelines are:\n",
    "\n",
    "- feature-extraction (get the vector representation of a text)\n",
    "- fill-mask\n",
    "- ner (named entity recognition)\n",
    "- question-answering\n",
    "- sentiment-analysis\n",
    "- summarization\n",
    "- text-generation\n",
    "- translation\n",
    "- zero-shot-classification"
   ]
  },
  {
   "cell_type": "markdown",
   "id": "c5adda9b-4407-4be7-adc5-e45c92274d1d",
   "metadata": {},
   "source": [
    "Some examples of using a pipeline:"
   ]
  },
  {
   "cell_type": "markdown",
   "id": "96b357d7-bc68-48b5-9ade-84468cbcda5f",
   "metadata": {},
   "source": [
    "#### Sentiment analysis"
   ]
  },
  {
   "cell_type": "code",
   "execution_count": 5,
   "id": "85a86a21-d59d-40d5-9bcc-af6fbcfd78d7",
   "metadata": {},
   "outputs": [
    {
     "name": "stderr",
     "output_type": "stream",
     "text": [
      "No model was supplied, defaulted to distilbert/distilbert-base-uncased-finetuned-sst-2-english and revision af0f99b (https://huggingface.co/distilbert/distilbert-base-uncased-finetuned-sst-2-english).\n",
      "Using a pipeline without specifying a model name and revision in production is not recommended.\n"
     ]
    },
    {
     "data": {
      "text/plain": [
       "[{'label': 'POSITIVE', 'score': 0.9598049521446228}]"
      ]
     },
     "execution_count": 5,
     "metadata": {},
     "output_type": "execute_result"
    }
   ],
   "source": [
    "# simple usage with one input sequence\n",
    "from transformers import pipeline\n",
    "\n",
    "classifier = pipeline(\"sentiment-analysis\")\n",
    "classifier(\"I've been waiting for a HuggingFace course my whole life.\")"
   ]
  },
  {
   "cell_type": "code",
   "execution_count": 32,
   "id": "eddad938-d5e2-473f-bf09-5633f1551e45",
   "metadata": {},
   "outputs": [
    {
     "name": "stderr",
     "output_type": "stream",
     "text": [
      "No model was supplied, defaulted to distilbert/distilbert-base-uncased-finetuned-sst-2-english and revision af0f99b (https://huggingface.co/distilbert/distilbert-base-uncased-finetuned-sst-2-english).\n",
      "Using a pipeline without specifying a model name and revision in production is not recommended.\n"
     ]
    },
    {
     "name": "stdout",
     "output_type": "stream",
     "text": [
      "Type the desired sentence for the sentiment analysis: The fish in my tank are swimming from left to right all the time.\n"
     ]
    },
    {
     "data": {
      "text/plain": [
       "[{'label': 'NEGATIVE', 'score': 0.9445313811302185}]"
      ]
     },
     "execution_count": 32,
     "metadata": {},
     "output_type": "execute_result"
    }
   ],
   "source": [
    "# simple usage with one input sequence given by the user\n",
    "from transformers import pipeline\n",
    "classifier = pipeline(\"sentiment-analysis\")\n",
    "text = input(\"Type the desired sentence for the sentiment analysis:\")\n",
    "classifier(text)"
   ]
  },
  {
   "cell_type": "code",
   "execution_count": 49,
   "id": "daa56dc1-45d0-4d42-b1ff-ad8e4e98ad4e",
   "metadata": {},
   "outputs": [
    {
     "data": {
      "text/html": [
       "<div>\n",
       "<style scoped>\n",
       "    .dataframe tbody tr th:only-of-type {\n",
       "        vertical-align: middle;\n",
       "    }\n",
       "\n",
       "    .dataframe tbody tr th {\n",
       "        vertical-align: top;\n",
       "    }\n",
       "\n",
       "    .dataframe thead th {\n",
       "        text-align: right;\n",
       "    }\n",
       "</style>\n",
       "<table border=\"1\" class=\"dataframe\">\n",
       "  <thead>\n",
       "    <tr style=\"text-align: right;\">\n",
       "      <th></th>\n",
       "      <th>sequence</th>\n",
       "      <th>label</th>\n",
       "      <th>score</th>\n",
       "    </tr>\n",
       "  </thead>\n",
       "  <tbody>\n",
       "    <tr>\n",
       "      <th>0</th>\n",
       "      <td>I love pizza!</td>\n",
       "      <td>POSITIVE</td>\n",
       "      <td>0.999813</td>\n",
       "    </tr>\n",
       "    <tr>\n",
       "      <th>1</th>\n",
       "      <td>My mom is the best!</td>\n",
       "      <td>POSITIVE</td>\n",
       "      <td>0.999877</td>\n",
       "    </tr>\n",
       "    <tr>\n",
       "      <th>2</th>\n",
       "      <td>Getting old is nothing for beginners!</td>\n",
       "      <td>NEGATIVE</td>\n",
       "      <td>0.999535</td>\n",
       "    </tr>\n",
       "  </tbody>\n",
       "</table>\n",
       "</div>"
      ],
      "text/plain": [
       "                                sequence     label     score\n",
       "0                          I love pizza!  POSITIVE  0.999813\n",
       "1                    My mom is the best!  POSITIVE  0.999877\n",
       "2  Getting old is nothing for beginners!  NEGATIVE  0.999535"
      ]
     },
     "execution_count": 49,
     "metadata": {},
     "output_type": "execute_result"
    }
   ],
   "source": [
    "# A bit more elaborate: specifying the model/checkpoint, using a list of sequences as input and outputting to a pandas dataframe.\n",
    "# Note: we have to use padding=True now, because the model can only work with tensors of same size.\n",
    "# Note: truncation=True is not necessary, as long as the sequences are shorter than the model's max sequence length.\n",
    "from transformers import pipeline\n",
    "import pandas as pd\n",
    "\n",
    "classifier = pipeline(model=\"distilbert-base-uncased-finetuned-sst-2-english\", task=\"sentiment-analysis\", padding=True, truncation=True)\n",
    "text = [\"I love pizza!\", \"My mom is the best!\", \"Getting old is nothing for beginners!\"]\n",
    "outputs = classifier(text)\n",
    "result = pd.DataFrame(outputs)  # create a dataframe from the models output\n",
    "result.insert(0, 'sequence', text)  # adding the input texts as first column to the dataframe\n",
    "result"
   ]
  },
  {
   "cell_type": "code",
   "execution_count": 42,
   "id": "70f5fd03-bb0e-4928-8055-0984896b7b5f",
   "metadata": {},
   "outputs": [],
   "source": []
  },
  {
   "cell_type": "code",
   "execution_count": null,
   "id": "df2e57ac-957c-4aa1-ae1f-0443582cff48",
   "metadata": {},
   "outputs": [],
   "source": []
  },
  {
   "cell_type": "code",
   "execution_count": null,
   "id": "2bd68435-8f0f-4d52-9fbf-1553257fe56a",
   "metadata": {},
   "outputs": [],
   "source": []
  }
 ],
 "metadata": {
  "kernelspec": {
   "display_name": "Python 3 (ipykernel)",
   "language": "python",
   "name": "python3"
  },
  "language_info": {
   "codemirror_mode": {
    "name": "ipython",
    "version": 3
   },
   "file_extension": ".py",
   "mimetype": "text/x-python",
   "name": "python",
   "nbconvert_exporter": "python",
   "pygments_lexer": "ipython3",
   "version": "3.12.2"
  }
 },
 "nbformat": 4,
 "nbformat_minor": 5
}
