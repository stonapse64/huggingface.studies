{
 "cells": [
  {
   "cell_type": "markdown",
   "id": "0627c060-6ead-4586-be86-21765bc0118c",
   "metadata": {},
   "source": [
    "# Workbook NLP Course Hugging Face\n",
    "\n",
    "https://huggingface.co/learn/nlp-course/chapter1/1"
   ]
  },
  {
   "cell_type": "markdown",
   "id": "3e9e3494-34a9-4f09-acb6-a6501cb36163",
   "metadata": {},
   "source": [
    "# 1. Transformer Models"
   ]
  },
  {
   "cell_type": "markdown",
   "id": "418a4eb7-a192-4eae-9b4c-c276ac1ed4e5",
   "metadata": {},
   "source": [
    "## Transformers, what can they do?\n",
    "\n",
    "https://huggingface.co/learn/nlp-course/chapter1/3?fw=pt#transformers-what-can-they-do"
   ]
  },
  {
   "cell_type": "markdown",
   "id": "159a69d2-767d-42b4-baef-e0829c9048c7",
   "metadata": {},
   "source": [
    "The most basic object in the Hugging Face Transformers library is the pipeline() function. It connects a model with its necessary preprocessing and postprocessing steps, allowing us to directly input any text and get an intelligible answer:\n",
    "\n",
    "Some of the currently available pipelines are:\n",
    "\n",
    "- feature-extraction (get the vector representation of a text)\n",
    "- fill-mask\n",
    "- ner (named entity recognition)\n",
    "- question-answering\n",
    "- sentiment-analysis\n",
    "- summarization\n",
    "- text-generation\n",
    "- translation\n",
    "- zero-shot-classification"
   ]
  },
  {
   "cell_type": "markdown",
   "id": "c5adda9b-4407-4be7-adc5-e45c92274d1d",
   "metadata": {},
   "source": [
    "### Some examples of using a pipeline:"
   ]
  },
  {
   "cell_type": "markdown",
   "id": "96b357d7-bc68-48b5-9ade-84468cbcda5f",
   "metadata": {},
   "source": [
    "#### Sentiment analysis: simple usage with one input sequence"
   ]
  },
  {
   "cell_type": "code",
   "execution_count": 1,
   "id": "85a86a21-d59d-40d5-9bcc-af6fbcfd78d7",
   "metadata": {},
   "outputs": [
    {
     "name": "stderr",
     "output_type": "stream",
     "text": [
      "No model was supplied, defaulted to distilbert/distilbert-base-uncased-finetuned-sst-2-english and revision af0f99b (https://huggingface.co/distilbert/distilbert-base-uncased-finetuned-sst-2-english).\n",
      "Using a pipeline without specifying a model name and revision in production is not recommended.\n"
     ]
    },
    {
     "data": {
      "text/plain": [
       "[{'label': 'POSITIVE', 'score': 0.9598049521446228}]"
      ]
     },
     "execution_count": 1,
     "metadata": {},
     "output_type": "execute_result"
    }
   ],
   "source": [
    "from transformers import pipeline\n",
    "\n",
    "classifier = pipeline(\"sentiment-analysis\")\n",
    "classifier(\"I've been waiting for a HuggingFace course my whole life.\")"
   ]
  },
  {
   "cell_type": "markdown",
   "id": "a3dcdb8c-45cc-431a-b9aa-a268f0ebc971",
   "metadata": {},
   "source": [
    "#### Sentiment analysis: simple usage with one input sequence given by the user"
   ]
  },
  {
   "cell_type": "code",
   "execution_count": 32,
   "id": "092f7901-2218-4c8a-a9aa-c3cec66a0780",
   "metadata": {},
   "outputs": [
    {
     "name": "stderr",
     "output_type": "stream",
     "text": [
      "No model was supplied, defaulted to distilbert/distilbert-base-uncased-finetuned-sst-2-english and revision af0f99b (https://huggingface.co/distilbert/distilbert-base-uncased-finetuned-sst-2-english).\n",
      "Using a pipeline without specifying a model name and revision in production is not recommended.\n"
     ]
    },
    {
     "name": "stdout",
     "output_type": "stream",
     "text": [
      "Type the desired sentence for the sentiment analysis: The fish in my tank are swimming from left to right all the time.\n"
     ]
    },
    {
     "data": {
      "text/plain": [
       "[{'label': 'NEGATIVE', 'score': 0.9445313811302185}]"
      ]
     },
     "execution_count": 32,
     "metadata": {},
     "output_type": "execute_result"
    }
   ],
   "source": [
    "from transformers import pipeline\n",
    "\n",
    "classifier = pipeline(\"sentiment-analysis\")\n",
    "text = input(\"Type the desired sentence for the sentiment analysis:\")\n",
    "classifier(text)"
   ]
  },
  {
   "cell_type": "markdown",
   "id": "aabe8799-e40a-47c2-9e50-b5e54d106a38",
   "metadata": {},
   "source": [
    "#### Sentiment analysis: Specifying the model/checkpoint, using a list of sequences as input and outputting to a pandas dataframe\n",
    "**Note**: we have to use padding=True now, because the model can only work with tensors of same size.  \n",
    "**Note**: truncation=True is not necessary, as long as the sequences are shorter than the model's max sequence length."
   ]
  },
  {
   "cell_type": "code",
   "execution_count": 8,
   "id": "daa56dc1-45d0-4d42-b1ff-ad8e4e98ad4e",
   "metadata": {},
   "outputs": [
    {
     "data": {
      "text/html": [
       "<div>\n",
       "<style scoped>\n",
       "    .dataframe tbody tr th:only-of-type {\n",
       "        vertical-align: middle;\n",
       "    }\n",
       "\n",
       "    .dataframe tbody tr th {\n",
       "        vertical-align: top;\n",
       "    }\n",
       "\n",
       "    .dataframe thead th {\n",
       "        text-align: right;\n",
       "    }\n",
       "</style>\n",
       "<table border=\"1\" class=\"dataframe\">\n",
       "  <thead>\n",
       "    <tr style=\"text-align: right;\">\n",
       "      <th></th>\n",
       "      <th>sequence</th>\n",
       "      <th>label</th>\n",
       "      <th>score</th>\n",
       "    </tr>\n",
       "  </thead>\n",
       "  <tbody>\n",
       "    <tr>\n",
       "      <th>0</th>\n",
       "      <td>I love pizza!</td>\n",
       "      <td>POSITIVE</td>\n",
       "      <td>0.999813</td>\n",
       "    </tr>\n",
       "    <tr>\n",
       "      <th>1</th>\n",
       "      <td>My mom is the best!</td>\n",
       "      <td>POSITIVE</td>\n",
       "      <td>0.999877</td>\n",
       "    </tr>\n",
       "    <tr>\n",
       "      <th>2</th>\n",
       "      <td>Getting old is nothing for beginners!</td>\n",
       "      <td>NEGATIVE</td>\n",
       "      <td>0.999535</td>\n",
       "    </tr>\n",
       "  </tbody>\n",
       "</table>\n",
       "</div>"
      ],
      "text/plain": [
       "                                sequence     label     score\n",
       "0                          I love pizza!  POSITIVE  0.999813\n",
       "1                    My mom is the best!  POSITIVE  0.999877\n",
       "2  Getting old is nothing for beginners!  NEGATIVE  0.999535"
      ]
     },
     "execution_count": 8,
     "metadata": {},
     "output_type": "execute_result"
    }
   ],
   "source": [
    "from transformers import pipeline\n",
    "import pandas as pd\n",
    "\n",
    "classifier = pipeline(model=\"distilbert-base-uncased-finetuned-sst-2-english\", task=\"sentiment-analysis\", padding=True, truncation=True)\n",
    "text = [\"I love pizza!\", \"My mom is the best!\", \"Getting old is nothing for beginners!\"]\n",
    "outputs = classifier(text)\n",
    "result = pd.DataFrame(outputs)  # create a dataframe from the models output\n",
    "result.insert(0, 'sequence', text)  # adding the input texts as first column to the dataframe\n",
    "result"
   ]
  },
  {
   "cell_type": "markdown",
   "id": "f3b3101c-f57e-476d-9acf-39ace3a4404c",
   "metadata": {},
   "source": [
    "#### Zero-shot classification: simple usage with one input sequence"
   ]
  },
  {
   "cell_type": "code",
   "execution_count": 47,
   "id": "df2e57ac-957c-4aa1-ae1f-0443582cff48",
   "metadata": {},
   "outputs": [
    {
     "name": "stderr",
     "output_type": "stream",
     "text": [
      "No model was supplied, defaulted to facebook/bart-large-mnli and revision c626438 (https://huggingface.co/facebook/bart-large-mnli).\n",
      "Using a pipeline without specifying a model name and revision in production is not recommended.\n"
     ]
    },
    {
     "data": {
      "text/plain": [
       "{'sequence': 'This is a course about the Transformers library',\n",
       " 'labels': ['education', 'business', 'politics'],\n",
       " 'scores': [0.8445996046066284, 0.11197374761104584, 0.04342668503522873]}"
      ]
     },
     "execution_count": 47,
     "metadata": {},
     "output_type": "execute_result"
    }
   ],
   "source": [
    "from transformers import pipeline\n",
    "\n",
    "classifier = pipeline(\"zero-shot-classification\")\n",
    "outputs = classifier(\n",
    "    \"This is a course about the Transformers library\",\n",
    "    candidate_labels=[\"education\", \"politics\", \"business\"],\n",
    ")\n",
    "outputs"
   ]
  },
  {
   "cell_type": "markdown",
   "id": "d0c41480-455b-417b-b738-70588ea1265f",
   "metadata": {},
   "source": [
    "#### Zero-shot classification: simple usage with output to a dataframe"
   ]
  },
  {
   "cell_type": "code",
   "execution_count": 104,
   "id": "cef8a486-1bc8-459d-b9da-54c5cb8ffbdc",
   "metadata": {},
   "outputs": [
    {
     "name": "stderr",
     "output_type": "stream",
     "text": [
      "No model was supplied, defaulted to facebook/bart-large-mnli and revision c626438 (https://huggingface.co/facebook/bart-large-mnli).\n",
      "Using a pipeline without specifying a model name and revision in production is not recommended.\n"
     ]
    },
    {
     "data": {
      "text/html": [
       "<div>\n",
       "<style scoped>\n",
       "    .dataframe tbody tr th:only-of-type {\n",
       "        vertical-align: middle;\n",
       "    }\n",
       "\n",
       "    .dataframe tbody tr th {\n",
       "        vertical-align: top;\n",
       "    }\n",
       "\n",
       "    .dataframe thead th {\n",
       "        text-align: right;\n",
       "    }\n",
       "</style>\n",
       "<table border=\"1\" class=\"dataframe\">\n",
       "  <thead>\n",
       "    <tr style=\"text-align: right;\">\n",
       "      <th></th>\n",
       "      <th>sequence</th>\n",
       "      <th>labels</th>\n",
       "      <th>scores</th>\n",
       "    </tr>\n",
       "  </thead>\n",
       "  <tbody>\n",
       "    <tr>\n",
       "      <th>0</th>\n",
       "      <td>To deliver on infrastructure transition at spe...</td>\n",
       "      <td>technology</td>\n",
       "      <td>0.863212</td>\n",
       "    </tr>\n",
       "    <tr>\n",
       "      <th>1</th>\n",
       "      <td>To deliver on infrastructure transition at spe...</td>\n",
       "      <td>business</td>\n",
       "      <td>0.122046</td>\n",
       "    </tr>\n",
       "    <tr>\n",
       "      <th>2</th>\n",
       "      <td>To deliver on infrastructure transition at spe...</td>\n",
       "      <td>leisure</td>\n",
       "      <td>0.010227</td>\n",
       "    </tr>\n",
       "    <tr>\n",
       "      <th>3</th>\n",
       "      <td>To deliver on infrastructure transition at spe...</td>\n",
       "      <td>politics</td>\n",
       "      <td>0.004514</td>\n",
       "    </tr>\n",
       "  </tbody>\n",
       "</table>\n",
       "</div>"
      ],
      "text/plain": [
       "                                            sequence      labels    scores\n",
       "0  To deliver on infrastructure transition at spe...  technology  0.863212\n",
       "1  To deliver on infrastructure transition at spe...    business  0.122046\n",
       "2  To deliver on infrastructure transition at spe...     leisure  0.010227\n",
       "3  To deliver on infrastructure transition at spe...    politics  0.004514"
      ]
     },
     "execution_count": 104,
     "metadata": {},
     "output_type": "execute_result"
    }
   ],
   "source": [
    "from transformers import pipeline\n",
    "\n",
    "classifier = pipeline(\"zero-shot-classification\")\n",
    "\n",
    "sequence = \"To deliver on infrastructure transition at speed and scale, we put digitalization and technology at the heart of our approach and empower our customers to scale sustainable impact. Together, we create energy efficiency – through CO2 transparency, renewable integration, and electrification. We help customers to improve asset performance, availability, and reliability, through resource-efficient and circular products which optimize production and supply chains throughout their entire lifecycle. We enable them to offer safe and comfortable environments that understand and adapt to the needs of their users.\"\n",
    "candidate_labels=[\"technology\", \"politics\", \"business\", \"leisure\"]\n",
    "\n",
    "outputs = classifier(sequence, candidate_labels)\n",
    "pd.DataFrame(outputs)"
   ]
  },
  {
   "cell_type": "markdown",
   "id": "265244f5-5e7d-45f4-b22b-b761c685ea8e",
   "metadata": {},
   "source": [
    "#### Zero-shot classification: multiple sequences, unpack output to / from a dataframe"
   ]
  },
  {
   "cell_type": "code",
   "execution_count": 105,
   "id": "c438be50-44ac-4797-a965-b0a5f92520a4",
   "metadata": {},
   "outputs": [
    {
     "name": "stderr",
     "output_type": "stream",
     "text": [
      "No model was supplied, defaulted to facebook/bart-large-mnli and revision c626438 (https://huggingface.co/facebook/bart-large-mnli).\n",
      "Using a pipeline without specifying a model name and revision in production is not recommended.\n"
     ]
    },
    {
     "data": {
      "text/html": [
       "<div>\n",
       "<style scoped>\n",
       "    .dataframe tbody tr th:only-of-type {\n",
       "        vertical-align: middle;\n",
       "    }\n",
       "\n",
       "    .dataframe tbody tr th {\n",
       "        vertical-align: top;\n",
       "    }\n",
       "\n",
       "    .dataframe thead th {\n",
       "        text-align: right;\n",
       "    }\n",
       "</style>\n",
       "<table border=\"1\" class=\"dataframe\">\n",
       "  <thead>\n",
       "    <tr style=\"text-align: right;\">\n",
       "      <th></th>\n",
       "      <th>sequence</th>\n",
       "      <th>labels</th>\n",
       "      <th>scores</th>\n",
       "    </tr>\n",
       "  </thead>\n",
       "  <tbody>\n",
       "    <tr>\n",
       "      <th>0</th>\n",
       "      <td>My mom is fat</td>\n",
       "      <td>family</td>\n",
       "      <td>0.985589</td>\n",
       "    </tr>\n",
       "    <tr>\n",
       "      <th>1</th>\n",
       "      <td>My mom is fat</td>\n",
       "      <td>fiction</td>\n",
       "      <td>0.008131</td>\n",
       "    </tr>\n",
       "    <tr>\n",
       "      <th>2</th>\n",
       "      <td>My mom is fat</td>\n",
       "      <td>crime</td>\n",
       "      <td>0.006281</td>\n",
       "    </tr>\n",
       "    <tr>\n",
       "      <th>3</th>\n",
       "      <td>My dad is in prison</td>\n",
       "      <td>family</td>\n",
       "      <td>0.724129</td>\n",
       "    </tr>\n",
       "    <tr>\n",
       "      <th>4</th>\n",
       "      <td>My dad is in prison</td>\n",
       "      <td>crime</td>\n",
       "      <td>0.269179</td>\n",
       "    </tr>\n",
       "    <tr>\n",
       "      <th>5</th>\n",
       "      <td>My dad is in prison</td>\n",
       "      <td>fiction</td>\n",
       "      <td>0.006692</td>\n",
       "    </tr>\n",
       "    <tr>\n",
       "      <th>6</th>\n",
       "      <td>I stole the car of my friend</td>\n",
       "      <td>crime</td>\n",
       "      <td>0.963348</td>\n",
       "    </tr>\n",
       "    <tr>\n",
       "      <th>7</th>\n",
       "      <td>I stole the car of my friend</td>\n",
       "      <td>family</td>\n",
       "      <td>0.020569</td>\n",
       "    </tr>\n",
       "    <tr>\n",
       "      <th>8</th>\n",
       "      <td>I stole the car of my friend</td>\n",
       "      <td>fiction</td>\n",
       "      <td>0.016084</td>\n",
       "    </tr>\n",
       "    <tr>\n",
       "      <th>9</th>\n",
       "      <td>I love crack</td>\n",
       "      <td>crime</td>\n",
       "      <td>0.718623</td>\n",
       "    </tr>\n",
       "    <tr>\n",
       "      <th>10</th>\n",
       "      <td>I love crack</td>\n",
       "      <td>fiction</td>\n",
       "      <td>0.146339</td>\n",
       "    </tr>\n",
       "    <tr>\n",
       "      <th>11</th>\n",
       "      <td>I love crack</td>\n",
       "      <td>family</td>\n",
       "      <td>0.135038</td>\n",
       "    </tr>\n",
       "  </tbody>\n",
       "</table>\n",
       "</div>"
      ],
      "text/plain": [
       "                        sequence   labels    scores\n",
       "0                  My mom is fat   family  0.985589\n",
       "1                  My mom is fat  fiction  0.008131\n",
       "2                  My mom is fat    crime  0.006281\n",
       "3            My dad is in prison   family  0.724129\n",
       "4            My dad is in prison    crime  0.269179\n",
       "5            My dad is in prison  fiction  0.006692\n",
       "6   I stole the car of my friend    crime  0.963348\n",
       "7   I stole the car of my friend   family  0.020569\n",
       "8   I stole the car of my friend  fiction  0.016084\n",
       "9                   I love crack    crime  0.718623\n",
       "10                  I love crack  fiction  0.146339\n",
       "11                  I love crack   family  0.135038"
      ]
     },
     "execution_count": 105,
     "metadata": {},
     "output_type": "execute_result"
    }
   ],
   "source": [
    "from transformers import pipeline\n",
    "\n",
    "classifier = pipeline(\"zero-shot-classification\")\n",
    "\n",
    "sequence = [\"My mom is fat\", \"My dad is in prison\", \"I stole the car of my friend\", \"I love crack\"]\n",
    "candidate_labels = [\"crime\", \"fiction\", \"family\"]\n",
    "\n",
    "outputs = classifier(sequence, candidate_labels)\n",
    "\n",
    "results = pd.concat([pd.DataFrame(x) for x in outputs])\n",
    "results.index = range(len(x))\n",
    "results"
   ]
  },
  {
   "cell_type": "code",
   "execution_count": null,
   "id": "6112256c-0f0a-4c42-b81e-6af9c64d1ebc",
   "metadata": {},
   "outputs": [],
   "source": []
  }
 ],
 "metadata": {
  "kernelspec": {
   "display_name": "Python 3 (ipykernel)",
   "language": "python",
   "name": "python3"
  },
  "language_info": {
   "codemirror_mode": {
    "name": "ipython",
    "version": 3
   },
   "file_extension": ".py",
   "mimetype": "text/x-python",
   "name": "python",
   "nbconvert_exporter": "python",
   "pygments_lexer": "ipython3",
   "version": "3.12.2"
  }
 },
 "nbformat": 4,
 "nbformat_minor": 5
}
