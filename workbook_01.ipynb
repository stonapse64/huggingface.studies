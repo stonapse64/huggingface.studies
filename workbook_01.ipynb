{
 "cells": [
  {
   "cell_type": "markdown",
   "id": "0627c060-6ead-4586-be86-21765bc0118c",
   "metadata": {},
   "source": [
    "# Workbook NLP Course Hugging Face\n",
    "\n",
    "https://huggingface.co/learn/nlp-course/chapter1/1"
   ]
  },
  {
   "cell_type": "markdown",
   "id": "3e9e3494-34a9-4f09-acb6-a6501cb36163",
   "metadata": {},
   "source": [
    "# 1. Transformer Models"
   ]
  },
  {
   "cell_type": "markdown",
   "id": "418a4eb7-a192-4eae-9b4c-c276ac1ed4e5",
   "metadata": {},
   "source": [
    "## Transformers, what can they do?\n",
    "\n",
    "https://huggingface.co/learn/nlp-course/chapter1/3?fw=pt#transformers-what-can-they-do"
   ]
  },
  {
   "cell_type": "markdown",
   "id": "159a69d2-767d-42b4-baef-e0829c9048c7",
   "metadata": {},
   "source": [
    "The most basic object in the Hugging Face Transformers library is the pipeline() function. It connects a model with its necessary preprocessing and postprocessing steps, allowing us to directly input any text and get an intelligible answer:\n",
    "\n",
    "Some of the currently available pipelines are:\n",
    "\n",
    "- feature-extraction (get the vector representation of a text)\n",
    "- fill-mask\n",
    "- ner (named entity recognition)\n",
    "- question-answering\n",
    "- sentiment-analysis\n",
    "- summarization\n",
    "- text-generation\n",
    "- translation\n",
    "- zero-shot-classification"
   ]
  },
  {
   "cell_type": "markdown",
   "id": "c5adda9b-4407-4be7-adc5-e45c92274d1d",
   "metadata": {},
   "source": [
    "### Some examples of using a pipeline:"
   ]
  },
  {
   "cell_type": "markdown",
   "id": "96b357d7-bc68-48b5-9ade-84468cbcda5f",
   "metadata": {},
   "source": [
    "#### Sentiment analysis: simple usage with one input sequence"
   ]
  },
  {
   "cell_type": "code",
   "id": "85a86a21-d59d-40d5-9bcc-af6fbcfd78d7",
   "metadata": {
    "ExecuteTime": {
     "end_time": "2024-05-03T06:38:09.633032Z",
     "start_time": "2024-05-03T06:38:02.672565Z"
    }
   },
   "source": [
    "from transformers import pipeline\n",
    "\n",
    "classifier = pipeline(\"sentiment-analysis\", model=\"distilbert/distilbert-base-uncased-finetuned-sst-2-english\")\n",
    "classifier(\"I've been waiting for a HuggingFace course my whole life.\")"
   ],
   "outputs": [
    {
     "data": {
      "text/plain": [
       "[{'label': 'POSITIVE', 'score': 0.9598049521446228}]"
      ]
     },
     "execution_count": 1,
     "metadata": {},
     "output_type": "execute_result"
    }
   ],
   "execution_count": 1
  },
  {
   "cell_type": "markdown",
   "id": "a3dcdb8c-45cc-431a-b9aa-a268f0ebc971",
   "metadata": {},
   "source": [
    "#### Sentiment analysis: simple usage with one input sequence given by the user"
   ]
  },
  {
   "cell_type": "code",
   "id": "092f7901-2218-4c8a-a9aa-c3cec66a0780",
   "metadata": {
    "ExecuteTime": {
     "end_time": "2024-05-03T06:39:10.118761Z",
     "start_time": "2024-05-03T06:38:38.713485Z"
    }
   },
   "source": [
    "from transformers import pipeline\n",
    "\n",
    "classifier = pipeline(\"sentiment-analysis\", model=\"distilbert/distilbert-base-uncased-finetuned-sst-2-english\")\n",
    "text = input(\"Type the desired sentence for the sentiment analysis:\")\n",
    "classifier(text)"
   ],
   "outputs": [
    {
     "data": {
      "text/plain": [
       "[{'label': 'NEGATIVE', 'score': 0.6877385973930359}]"
      ]
     },
     "execution_count": 2,
     "metadata": {},
     "output_type": "execute_result"
    }
   ],
   "execution_count": 2
  },
  {
   "cell_type": "markdown",
   "id": "aabe8799-e40a-47c2-9e50-b5e54d106a38",
   "metadata": {},
   "source": [
    "#### Sentiment analysis: Specifying the model/checkpoint, using a list of sequences as input and outputting to a pandas dataframe\n",
    "**Note**: we have to use padding=True now, because the model can only work with tensors of same size.  \n",
    "**Note**: truncation=True is not necessary, as long as the sequences are shorter than the model's max sequence length."
   ]
  },
  {
   "cell_type": "code",
   "execution_count": 8,
   "id": "daa56dc1-45d0-4d42-b1ff-ad8e4e98ad4e",
   "metadata": {},
   "outputs": [
    {
     "data": {
      "text/html": [
       "<div>\n",
       "<style scoped>\n",
       "    .dataframe tbody tr th:only-of-type {\n",
       "        vertical-align: middle;\n",
       "    }\n",
       "\n",
       "    .dataframe tbody tr th {\n",
       "        vertical-align: top;\n",
       "    }\n",
       "\n",
       "    .dataframe thead th {\n",
       "        text-align: right;\n",
       "    }\n",
       "</style>\n",
       "<table border=\"1\" class=\"dataframe\">\n",
       "  <thead>\n",
       "    <tr style=\"text-align: right;\">\n",
       "      <th></th>\n",
       "      <th>sequence</th>\n",
       "      <th>label</th>\n",
       "      <th>score</th>\n",
       "    </tr>\n",
       "  </thead>\n",
       "  <tbody>\n",
       "    <tr>\n",
       "      <th>0</th>\n",
       "      <td>I love pizza!</td>\n",
       "      <td>POSITIVE</td>\n",
       "      <td>0.999813</td>\n",
       "    </tr>\n",
       "    <tr>\n",
       "      <th>1</th>\n",
       "      <td>My mom is the best!</td>\n",
       "      <td>POSITIVE</td>\n",
       "      <td>0.999877</td>\n",
       "    </tr>\n",
       "    <tr>\n",
       "      <th>2</th>\n",
       "      <td>Getting old is nothing for beginners!</td>\n",
       "      <td>NEGATIVE</td>\n",
       "      <td>0.999535</td>\n",
       "    </tr>\n",
       "  </tbody>\n",
       "</table>\n",
       "</div>"
      ],
      "text/plain": [
       "                                sequence     label     score\n",
       "0                          I love pizza!  POSITIVE  0.999813\n",
       "1                    My mom is the best!  POSITIVE  0.999877\n",
       "2  Getting old is nothing for beginners!  NEGATIVE  0.999535"
      ]
     },
     "execution_count": 8,
     "metadata": {},
     "output_type": "execute_result"
    }
   ],
   "source": [
    "from transformers import pipeline\n",
    "import pandas as pd\n",
    "\n",
    "classifier = pipeline(model=\"distilbert-base-uncased-finetuned-sst-2-english\", task=\"sentiment-analysis\", padding=True, truncation=True)\n",
    "text = [\"I love pizza!\", \"My mom is the best!\", \"Getting old is nothing for beginners!\"]\n",
    "outputs = classifier(text)\n",
    "result = pd.DataFrame(outputs)  # create a dataframe from the models output\n",
    "result.insert(0, 'sequence', text)  # adding the input texts as first column to the dataframe\n",
    "result"
   ]
  },
  {
   "cell_type": "markdown",
   "id": "f3b3101c-f57e-476d-9acf-39ace3a4404c",
   "metadata": {},
   "source": [
    "#### Zero-shot classification: simple usage with one input sequence"
   ]
  },
  {
   "cell_type": "code",
   "execution_count": 47,
   "id": "df2e57ac-957c-4aa1-ae1f-0443582cff48",
   "metadata": {},
   "outputs": [
    {
     "name": "stderr",
     "output_type": "stream",
     "text": [
      "No model was supplied, defaulted to facebook/bart-large-mnli and revision c626438 (https://huggingface.co/facebook/bart-large-mnli).\n",
      "Using a pipeline without specifying a model name and revision in production is not recommended.\n"
     ]
    },
    {
     "data": {
      "text/plain": [
       "{'sequence': 'This is a course about the Transformers library',\n",
       " 'labels': ['education', 'business', 'politics'],\n",
       " 'scores': [0.8445996046066284, 0.11197374761104584, 0.04342668503522873]}"
      ]
     },
     "execution_count": 47,
     "metadata": {},
     "output_type": "execute_result"
    }
   ],
   "source": [
    "from transformers import pipeline\n",
    "\n",
    "classifier = pipeline(\"zero-shot-classification\")\n",
    "outputs = classifier(\n",
    "    \"This is a course about the Transformers library\",\n",
    "    candidate_labels=[\"education\", \"politics\", \"business\"],\n",
    ")\n",
    "outputs"
   ]
  },
  {
   "cell_type": "markdown",
   "id": "d0c41480-455b-417b-b738-70588ea1265f",
   "metadata": {},
   "source": [
    "#### Zero-shot classification: simple usage with output to a dataframe"
   ]
  },
  {
   "cell_type": "code",
   "id": "cef8a486-1bc8-459d-b9da-54c5cb8ffbdc",
   "metadata": {
    "ExecuteTime": {
     "end_time": "2024-04-29T11:49:39.216589Z",
     "start_time": "2024-04-29T11:49:39.203959Z"
    }
   },
   "source": [
    "from transformers import pipeline\n",
    "\n",
    "classifier = pipeline(\"zero-shot-classification\")\n",
    "\n",
    "sequence = \"To deliver on infrastructure transition at speed and scale, we put digitalization and technology at the heart of our approach and empower our customers to scale sustainable impact. Together, we create energy efficiency – through CO2 transparency, renewable integration, and electrification. We help customers to improve asset performance, availability, and reliability, through resource-efficient and circular products which optimize production and supply chains throughout their entire lifecycle. We enable them to offer safe and comfortable environments that understand and adapt to the needs of their users.\"\n",
    "candidate_labels=[\"technology\", \"politics\", \"business\", \"leisure\"]\n",
    "\n",
    "outputs = classifier(sequence, candidate_labels)\n",
    "pd.DataFrame(outputs)"
   ],
   "outputs": [
    {
     "ename": "ModuleNotFoundError",
     "evalue": "No module named 'transformers'",
     "output_type": "error",
     "traceback": [
      "\u001B[1;31m---------------------------------------------------------------------------\u001B[0m",
      "\u001B[1;31mModuleNotFoundError\u001B[0m                       Traceback (most recent call last)",
      "Cell \u001B[1;32mIn[2], line 1\u001B[0m\n\u001B[1;32m----> 1\u001B[0m \u001B[38;5;28;01mfrom\u001B[39;00m \u001B[38;5;21;01mtransformers\u001B[39;00m \u001B[38;5;28;01mimport\u001B[39;00m pipeline\n\u001B[0;32m      3\u001B[0m classifier \u001B[38;5;241m=\u001B[39m pipeline(\u001B[38;5;124m\"\u001B[39m\u001B[38;5;124mzero-shot-classification\u001B[39m\u001B[38;5;124m\"\u001B[39m)\n\u001B[0;32m      5\u001B[0m sequence \u001B[38;5;241m=\u001B[39m \u001B[38;5;124m\"\u001B[39m\u001B[38;5;124mTo deliver on infrastructure transition at speed and scale, we put digitalization and technology at the heart of our approach and empower our customers to scale sustainable impact. Together, we create energy efficiency – through CO2 transparency, renewable integration, and electrification. We help customers to improve asset performance, availability, and reliability, through resource-efficient and circular products which optimize production and supply chains throughout their entire lifecycle. We enable them to offer safe and comfortable environments that understand and adapt to the needs of their users.\u001B[39m\u001B[38;5;124m\"\u001B[39m\n",
      "\u001B[1;31mModuleNotFoundError\u001B[0m: No module named 'transformers'"
     ]
    }
   ],
   "execution_count": 2
  },
  {
   "cell_type": "markdown",
   "id": "265244f5-5e7d-45f4-b22b-b761c685ea8e",
   "metadata": {},
   "source": [
    "#### Zero-shot classification: multiple sequences, unpack output to / from a dataframe"
   ]
  },
  {
   "cell_type": "code",
   "id": "c438be50-44ac-4797-a965-b0a5f92520a4",
   "metadata": {
    "ExecuteTime": {
     "end_time": "2024-04-29T11:49:04.771409Z",
     "start_time": "2024-04-29T11:49:04.634925Z"
    }
   },
   "source": [
    "from transformers import pipeline\n",
    "\n",
    "classifier = pipeline(\"zero-shot-classification\", model=\"bart-large-mnli\")\n",
    "\n",
    "sequence = [\"My mom is fat\", \"My dad is in prison\", \"I stole the car of my friend\", \"I love crack\"]\n",
    "candidate_labels = [\"crime\", \"fiction\", \"family\"]\n",
    "\n",
    "outputs = classifier(sequence, candidate_labels)\n",
    "\n",
    "results = pd.concat([pd.DataFrame(x) for x in outputs])\n",
    "results.index = range(len(x))\n",
    "results"
   ],
   "outputs": [
    {
     "ename": "ModuleNotFoundError",
     "evalue": "No module named 'transformers'",
     "output_type": "error",
     "traceback": [
      "\u001B[1;31m---------------------------------------------------------------------------\u001B[0m",
      "\u001B[1;31mModuleNotFoundError\u001B[0m                       Traceback (most recent call last)",
      "Cell \u001B[1;32mIn[1], line 1\u001B[0m\n\u001B[1;32m----> 1\u001B[0m \u001B[38;5;28;01mfrom\u001B[39;00m \u001B[38;5;21;01mtransformers\u001B[39;00m \u001B[38;5;28;01mimport\u001B[39;00m pipeline\n\u001B[0;32m      3\u001B[0m classifier \u001B[38;5;241m=\u001B[39m pipeline(\u001B[38;5;124m\"\u001B[39m\u001B[38;5;124mzero-shot-classification\u001B[39m\u001B[38;5;124m\"\u001B[39m, model\u001B[38;5;241m=\u001B[39m\u001B[38;5;124m\"\u001B[39m\u001B[38;5;124mbart-large-mnli\u001B[39m\u001B[38;5;124m\"\u001B[39m)\n\u001B[0;32m      5\u001B[0m sequence \u001B[38;5;241m=\u001B[39m [\u001B[38;5;124m\"\u001B[39m\u001B[38;5;124mMy mom is fat\u001B[39m\u001B[38;5;124m\"\u001B[39m, \u001B[38;5;124m\"\u001B[39m\u001B[38;5;124mMy dad is in prison\u001B[39m\u001B[38;5;124m\"\u001B[39m, \u001B[38;5;124m\"\u001B[39m\u001B[38;5;124mI stole the car of my friend\u001B[39m\u001B[38;5;124m\"\u001B[39m, \u001B[38;5;124m\"\u001B[39m\u001B[38;5;124mI love crack\u001B[39m\u001B[38;5;124m\"\u001B[39m]\n",
      "\u001B[1;31mModuleNotFoundError\u001B[0m: No module named 'transformers'"
     ]
    }
   ],
   "execution_count": 1
  },
  {
   "cell_type": "code",
   "execution_count": null,
   "id": "6112256c-0f0a-4c42-b81e-6af9c64d1ebc",
   "metadata": {},
   "outputs": [],
   "source": []
  }
 ],
 "metadata": {
  "kernelspec": {
   "display_name": "Python 3 (ipykernel)",
   "language": "python",
   "name": "python3"
  },
  "language_info": {
   "codemirror_mode": {
    "name": "ipython",
    "version": 3
   },
   "file_extension": ".py",
   "mimetype": "text/x-python",
   "name": "python",
   "nbconvert_exporter": "python",
   "pygments_lexer": "ipython3",
   "version": "3.12.2"
  }
 },
 "nbformat": 4,
 "nbformat_minor": 5
}
